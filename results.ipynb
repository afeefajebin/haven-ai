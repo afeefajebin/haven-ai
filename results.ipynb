{
 "cells": [
  {
   "cell_type": "code",
   "execution_count": 2,
   "metadata": {},
   "outputs": [
    {
     "output_type": "stream",
     "name": "stderr",
     "text": [
      "100%|██████████| 14/14 [00:00<00:00, 1094.91it/s]\n"
     ]
    },
    {
     "output_type": "display_data",
     "data": {
      "text/plain": "Label(value='Loading Dashboard...', layout=Layout(width='800px'))",
      "application/vnd.jupyter.widget-view+json": {
       "version_major": 2,
       "version_minor": 0,
       "model_id": "e88b3ff686fa43a69feef15fdef6e6d3"
      }
     },
     "metadata": {}
    },
    {
     "output_type": "display_data",
     "data": {
      "text/plain": "<IPython.core.display.Javascript object>",
      "application/javascript": "\n        require.config({\n            paths: {\n                DT: '//cdn.datatables.net/1.10.19/js/jquery.dataTables.min',\n            }\n        });\n        $('head').append('<link rel=\"stylesheet\" type=\"text/css\" href=\"//cdn.datatables.net/1.10.19/css/jquery.dataTables.min.css\">');\n    "
     },
     "metadata": {}
    },
    {
     "output_type": "display_data",
     "data": {
      "text/plain": "Output()",
      "application/vnd.jupyter.widget-view+json": {
       "version_major": 2,
       "version_minor": 0,
       "model_id": "72c9291adf8648bc9c9605b71d9fc364"
      }
     },
     "metadata": {}
    },
    {
     "output_type": "display_data",
     "data": {
      "text/plain": "<IPython.core.display.HTML object>",
      "text/html": "<style>.container { width:100% !important; }</style>"
     },
     "metadata": {}
    },
    {
     "output_type": "display_data",
     "data": {
      "text/plain": "<IPython.core.display.HTML object>",
      "text/html": "\n        <style>\n            .output_scroll {\n                height: unset !important;\n                border-radius: unset !important;\n                -webkit-box-shadow: unset !important;\n                box-shadow: unset !important;\n            }\n        </style>\n        "
     },
     "metadata": {}
    },
    {
     "output_type": "execute_result",
     "data": {
      "text/plain": [
       "<haven.haven_jupyter.DashboardManager at 0x7fd57d399990>"
      ]
     },
     "metadata": {},
     "execution_count": 2
    }
   ],
   "source": [
    "from haven import haven_jupyter as hj\n",
    "from haven import haven_results as hr\n",
    "from haven import haven_utils as hu\n",
    "\n",
    "# path to where the experiments got saved\n",
    "savedir_base = '/mnt/public/results/session/toolkit'\n",
    "exp_list = None\n",
    "\n",
    "# filter exps\n",
    "# e.g. filterby_list =[{'dataset':'mnist'}] gets exps with mnist\n",
    "filterby_list = [{'dataset':'mnist'}]\n",
    "legend_list = ['lr']\n",
    "y_metrics = ['acc']\n",
    "title_list = ['dataset']\n",
    "# get experiments\n",
    "rm = hr.ResultManager(exp_list=exp_list, \n",
    "                      savedir_base=savedir_base, \n",
    "                      filterby_list=filterby_list,\n",
    "                      verbose=0,\n",
    "                      exp_groups=None\n",
    "                     )\n",
    "latex_rows =['model', 'lr']\n",
    "latex_columns = ['loss', 'acc']\n",
    "\n",
    "# launch dashboard\n",
    "# make sure you have 'widgetsnbextension' enabled; \n",
    "# otherwise see README.md in https://github.com/haven-ai/haven-ai\n",
    "figsize = (16, 8)\n",
    "hj.get_dashboard(rm, vars(), wide_display=True, enable_datatables=True)\n",
    "          "
   ]
  },
  {
   "cell_type": "code",
   "execution_count": null,
   "metadata": {},
   "outputs": [],
   "source": []
  }
 ],
 "metadata": {
  "kernelspec": {
   "display_name": "Python 3",
   "language": "python",
   "name": "python3"
  },
  "language_info": {
   "codemirror_mode": {
    "name": "ipython",
    "version": 3
   },
   "file_extension": ".py",
   "mimetype": "text/x-python",
   "name": "python",
   "nbconvert_exporter": "python",
   "pygments_lexer": "ipython3",
   "version": "3.7.6-final"
  }
 },
 "nbformat": 4,
 "nbformat_minor": 4
}