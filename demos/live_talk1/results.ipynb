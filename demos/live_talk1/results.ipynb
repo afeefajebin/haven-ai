{
 "cells": [
  {
   "cell_type": "code",
   "execution_count": 34,
   "metadata": {},
   "outputs": [
    {
     "name": "stderr",
     "output_type": "stream",
     "text": [
      "100%|██████████| 6/6 [00:00<00:00, 921.05it/s]\n"
     ]
    },
    {
     "data": {
      "application/vnd.jupyter.widget-view+json": {
       "model_id": "b6883744b81c4a1a901c1364fef9384a",
       "version_major": 2,
       "version_minor": 0
      },
      "text/plain": [
       "Label(value='Loading Dashboard...', layout=Layout(width='200px'))"
      ]
     },
     "metadata": {},
     "output_type": "display_data"
    },
    {
     "data": {
      "application/javascript": [
       "\n",
       "        require.config({\n",
       "            paths: {\n",
       "                DT: '//cdn.datatables.net/1.10.19/js/jquery.dataTables.min',\n",
       "            }\n",
       "        });\n",
       "        $('head').append('<link rel=\"stylesheet\" type=\"text/css\" href=\"//cdn.datatables.net/1.10.19/css/jquery.dataTables.min.css\">');\n",
       "    "
      ],
      "text/plain": [
       "<IPython.core.display.Javascript object>"
      ]
     },
     "metadata": {},
     "output_type": "display_data"
    },
    {
     "data": {
      "application/vnd.jupyter.widget-view+json": {
       "model_id": "62579d69305e44869496c32c1408958f",
       "version_major": 2,
       "version_minor": 0
      },
      "text/plain": [
       "Output()"
      ]
     },
     "metadata": {},
     "output_type": "display_data"
    },
    {
     "data": {
      "text/html": [
       "<style>.container { width:100% !important; }</style>"
      ],
      "text/plain": [
       "<IPython.core.display.HTML object>"
      ]
     },
     "metadata": {},
     "output_type": "display_data"
    },
    {
     "data": {
      "text/html": [
       "\n",
       "        <style>\n",
       "            .output_scroll {\n",
       "                height: unset !important;\n",
       "                border-radius: unset !important;\n",
       "                -webkit-box-shadow: unset !important;\n",
       "                box-shadow: unset !important;\n",
       "            }\n",
       "        </style>\n",
       "        "
      ],
      "text/plain": [
       "<IPython.core.display.HTML object>"
      ]
     },
     "metadata": {},
     "output_type": "display_data"
    },
    {
     "data": {
      "text/plain": [
       "<haven.haven_jupyter.DashboardManager at 0x7f93697a8a50>"
      ]
     },
     "execution_count": 34,
     "metadata": {},
     "output_type": "execute_result"
    }
   ],
   "source": [
    "from haven import haven_jupyter as hj\n",
    "from haven import haven_results as hr\n",
    "from haven import haven_utils as hu\n",
    "\n",
    "# path to where the experiments got saved\n",
    "savedir_base = '/mnt/public/results/session/cluster'\n",
    "exp_list = None\n",
    "\n",
    "# filter exps\n",
    "# e.g. filterby_list =[{'dataset':'mnist'}] gets exps with mnist\n",
    "# filterby_list = [{'dataset':'mnist'}]\n",
    "filterby_list = [{'dataset':'fashionmnist'}]\n",
    "# get experiments\n",
    "rm = hr.ResultManager(exp_list=exp_list, \n",
    "                      savedir_base=savedir_base, \n",
    "                      filterby_list=filterby_list,\n",
    "                      verbose=0,\n",
    "                      exp_groups=None\n",
    "                     )\n",
    "\n",
    "# launch dashboard\n",
    "# make sure you have 'widgetsnbextension' enabled; \n",
    "# otherwise see README.md in https://github.com/haven-ai/haven-ai\n",
    "title_list = ['dataset']\n",
    "legend_list = ['opt.name', 'opt.lr']\n",
    "hj.get_dashboard(rm, vars(), wide_display=1, enable_datatables=1)\n",
    "          "
   ]
  },
  {
   "cell_type": "code",
   "execution_count": 32,
   "metadata": {},
   "outputs": [
    {
     "data": {
      "text/plain": [
       "\"\\\\begin{tabular}{llllrlrrrrrrrr}\\n\\\\toprule\\n{} &                              exp\\\\_id &           started\\\\_at &         dataset &  opt.lr &   opt.name &  batch\\\\_size &  epoch &  train\\\\_loss &  train\\\\_loss (max) &  train\\\\_loss (min) &  val\\\\_acc &  val\\\\_acc (max) &  val\\\\_acc (min) \\\\\\\\\\n\\\\midrule\\n1 &  '756d03452bfb033fa6666b24eb2c00dd' &  '12:37 PM (Dec 11)' &         'mnist' &   0.001 &     'adam' &         128 &     49 &    0.077872 &          2.307920 &          0.072766 &   0.9771 &         0.9803 &         0.1005 \\\\\\\\\\n0 &  '9479deceff1a5989dd5a67430b0858f5' &  '12:37 PM (Dec 11)' &  'fashionmnist' &   0.001 &     'adam' &         128 &     49 &    0.336212 &          2.299717 &          0.329641 &   0.8863 &         0.8863 &         0.0897 \\\\\\\\\\n5 &  'c76a308817fa03bf082fbf11dceb3bca' &  '12:41 PM (Dec 11)' &         'mnist' &   0.001 &      'sgd' &         128 &     28 &    1.333120 &          2.310228 &          1.333120 &   0.7327 &         0.7327 &         0.1219 \\\\\\\\\\n4 &  'e4435658e791dce24abfee1e0c43b060' &  '12:41 PM (Dec 11)' &  'fashionmnist' &   0.001 &  'adagrad' &         128 &     27 &    0.441072 &          2.312636 &          0.441072 &   0.8418 &         0.8418 &         0.1179 \\\\\\\\\\n2 &  'e3885023c33b849551246ddad90f842a' &  '12:41 PM (Dec 11)' &  'fashionmnist' &   0.001 &      'sgd' &         128 &     27 &    1.121696 &          2.308860 &          1.121696 &   0.6960 &         0.6960 &         0.0856 \\\\\\\\\\n3 &  'd343ef3a62aa5b9a84becfc9b604c1fe' &  '12:41 PM (Dec 11)' &         'mnist' &   0.001 &  'adagrad' &         128 &     28 &    0.246553 &          2.308326 &          0.246553 &   0.9302 &         0.9302 &         0.1014 \\\\\\\\\\n\\\\bottomrule\\n\\\\end{tabular}\\n\""
      ]
     },
     "execution_count": 32,
     "metadata": {},
     "output_type": "execute_result"
    }
   ],
   "source": [
    "df = rm.get_score_df()\n",
    "df.to_latex()"
   ]
  }
 ],
 "metadata": {
  "kernelspec": {
   "display_name": "Python 3",
   "language": "python",
   "name": "python3"
  },
  "language_info": {
   "codemirror_mode": {
    "name": "ipython",
    "version": 3
   },
   "file_extension": ".py",
   "mimetype": "text/x-python",
   "name": "python",
   "nbconvert_exporter": "python",
   "pygments_lexer": "ipython3",
   "version": "3.7.6"
  }
 },
 "nbformat": 4,
 "nbformat_minor": 4
}
